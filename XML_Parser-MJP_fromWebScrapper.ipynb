{
 "cells": [
  {
   "cell_type": "markdown",
   "metadata": {},
   "source": [
    "# Parse Web-Scrapped MJP Data"
   ]
  },
  {
   "cell_type": "markdown",
   "metadata": {},
   "source": [
    "This XML-parser works specifically with the web-scrapped data from the <a href=\"https://repository.library.brown.edu/studio/collections/id_592/\">Modernist Journals Project in digital repository at Brown University Library</a>. The parser reads through two directories. The output of this notebook is two separate (.tsv) files. One holds the metadata and the other contains the content. They are linked with unique identifiers so they can be rejoined for text analysis."
   ]
  },
  {
   "cell_type": "code",
   "execution_count": 1,
   "metadata": {},
   "outputs": [],
   "source": [
    "import re\n",
    "import glob\n",
    "import csv\n",
    "import xml.etree.ElementTree as ET\n",
    "\n",
    "catalog_path = \"/Users/williamquinn/Desktop/DH/Python/MJP/WebScrapper/Parsing_Output/catalog_file_10-04-19.txt\"\n",
    "text_path = \"/Users/williamquinn/Desktop/DH/Python/MJP/WebScrapper/Parsing_Output/text_file_10-04-19.txt\"\n",
    "\n",
    "list_of_textFiles = glob.glob(\"/Users/williamquinn/Desktop/DH/Python/MJP/WebScrapper/WebDirectory_Output/Text/*.xml\")\n",
    "list_of_modsFiles = glob.glob(\"/Users/williamquinn/Desktop/DH/Python/MJP/WebScrapper/WebDirectory_Output/Mods/*.xml\")"
   ]
  },
  {
   "cell_type": "code",
   "execution_count": 2,
   "metadata": {},
   "outputs": [],
   "source": [
    "def get_mods_info(list_of_modsFiles, catalog_file):\n",
    "'''\n",
    "Input: \n",
    "    First Argument: A list of files from a directory\n",
    "    Second Argument: A file to write information\n",
    "Output:\n",
    "    Information written immediately to file, in this case \"catalog_file,\" and are not saved in memory.\n",
    "'''\n",
    "    for file_name in list_of_modsFiles:\n",
    "        file = open(file_name, 'rt')\n",
    "        tree = ET.parse(file)\n",
    "        \n",
    "        namespace = re.search(r\".*{(.*)}.*\", tree.getroot().tag)\n",
    "        if namespace is not None:\n",
    "            ns = {\"ns\":namespace.group(1)}\n",
    "        else:\n",
    "            ns = {\"ns\":\"\"}\n",
    "            \n",
    "        file.close()\n",
    "    \n",
    "        try:\n",
    "            title = tree.find(\".//ns:titleInfo/ns:title\", namespaces=ns)\n",
    "            clean_title = re.sub(\"[^A-z ]\", \"\", str(title.text))\n",
    "\n",
    "            mods_id = tree.getroot().attrib['ID']\n",
    "            title = tree.find(\".//ns:titleInfo/ns:title\", namespaces=ns).text\n",
    "            date = tree.find(\".//ns:dateIssued\", namespaces=ns).text\n",
    "            volumeIssue = tree.find(\".//ns:titleInfo/ns:partNumber\", namespaces=ns).text\n",
    "\n",
    "            catalog_file.write(mods_id + \"\\t\" + clean_title + \"\\t\" + date + \"\\t\" + volumeIssue + \"\\n\")\n",
    "\n",
    "        except:\n",
    "            print (file_name)\n",
    "            file_short = re.search(r\".*/(\\d+-mods.xml)\", file_name).group(1)\n",
    "            catalog_file.write(file_short + '\\n')\n",
    "    \n",
    "def get_text(list_of_textFiles, text_file):\n",
    "'''\n",
    "Input: \n",
    "    First Argument: A list of files from a directory\n",
    "    Second Argument: A file to write information\n",
    "Output:\n",
    "    Information written immediately to file, in this case \"text_file,\" and are not saved in memory.\n",
    "'''\n",
    "    for file_name in list_of_textFiles:\n",
    "        file = open(file_name, 'rt')\n",
    "        tree = ET.parse(file)\n",
    "        for name, value in tree.getroot().attrib.items():\n",
    "            mods_id = value\n",
    "        \n",
    "        namespace = re.search(r\".*{(.*)}.*\", tree.getroot().tag)\n",
    "        if namespace is not None:\n",
    "            ns = {\"ns\":namespace.group(1)}\n",
    "        else:\n",
    "            ns = {\"ns\":\"\"}\n",
    "            \n",
    "        file.close()\n",
    "        \n",
    "        group_content = []\n",
    "        for group in tree.findall('.//ns:body', namespaces=ns):\n",
    "            content_l = group.itertext()\n",
    "            content = ' '.join(str(w) for w in content_l).replace('\\t','').replace('\\n','').lower()\n",
    "            content_clean = re.sub(\" +\", \" \", content)\n",
    "            group_content.append(content_clean)\n",
    "\n",
    "        text = (\" \".join(str(w) for w in group_content))\n",
    "        text_file.write(mods_id + \"\\t\" + text + \"\\n\")"
   ]
  },
  {
   "cell_type": "code",
   "execution_count": 3,
   "metadata": {
    "scrolled": true
   },
   "outputs": [
    {
     "name": "stdout",
     "output_type": "stream",
     "text": [
      "/Users/williamquinn/Desktop/DH/Python/MJP/WebScrapper/WebDirectory_Output/Mods/527353-mods.xml\n",
      "CPU times: user 56.8 s, sys: 8.16 s, total: 1min 4s\n",
      "Wall time: 1min 26s\n"
     ]
    }
   ],
   "source": [
    "%%time\n",
    "\n",
    "with open(catalog_path, \"w+\") as catalog_file, open(text_path, \"w+\") as text_file:\n",
    "\n",
    "    catalog_file.write(\"mjp_id\" + \"\\t\" + \"magazine\" + \"\\t\" + \"date\" + \"\\t\" + \"volumeIssue\" + \"\\n\")\n",
    "    text_file.write(\"mjp_id\" + \"\\t\" + \"text\" + \"\\n\")\n",
    "    \n",
    "    get_mods_info(list_of_modsFiles, catalog_file)\n",
    "    get_text(list_of_textFiles, text_file)"
   ]
  }
 ],
 "metadata": {
  "kernelspec": {
   "display_name": "Python 3",
   "language": "python",
   "name": "python3"
  },
  "language_info": {
   "codemirror_mode": {
    "name": "ipython",
    "version": 3
   },
   "file_extension": ".py",
   "mimetype": "text/x-python",
   "name": "python",
   "nbconvert_exporter": "python",
   "pygments_lexer": "ipython3",
   "version": "3.7.3"
  }
 },
 "nbformat": 4,
 "nbformat_minor": 2
}
